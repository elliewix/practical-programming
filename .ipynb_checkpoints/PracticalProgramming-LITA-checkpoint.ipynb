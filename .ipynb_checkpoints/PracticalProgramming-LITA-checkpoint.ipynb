{
 "cells": [
  {
   "cell_type": "markdown",
   "metadata": {
    "slideshow": {
     "slide_type": "slide"
    }
   },
   "source": [
    "## Practical Python for Humanities Data\n",
    "\n",
    "## Welcome!!\n",
    "\n",
    "\n",
    "## Schedule\n",
    "\n",
    "* 8:30 - 9:00:  Introductions\n",
    "* 9:00 - 9:30:  Software checks\n",
    "* 9:30 - 10:00:  What are programming languages and what is Python?\n",
    "* 10:00 - 10:30:  Talking through a programming problem\n",
    "* 10:30 - 10:45:  Break!\n",
    "* 10:45 - 11:30:  Data types, operators, and variables (oh my!)\n",
    "* 11:30 - 12:00: Containers\n",
    "* 12:00 - 1:00:  Lunch\n",
    "* 1:00 - 1:30:  Working with files\n",
    "* 2:00 - 2:30: Looping\n",
    "* 2:30 - 3:00: Conditionals and working with data\n",
    "* 3:00 - 3:30: Discussion on searching strategies (and buffer time)\n",
    "* 3:30 - 4:00: Where to go from here\n",
    "\n",
    "# Pre-introduction task!\n",
    "\n",
    "Question: Have you ever used pip?  If you don't know what I'm talking about, the answer is no.  Do nothing below if you have used pip before and talk to me first.\n",
    "\n",
    "Start by downloading the appropriate version of Anaconda (https://www.continuum.io/downloads).  We're going to do introductions and other admin stuff. When it finishes downloading go ahead and start the installation process.  All the defaults are fine."
   ]
  },
  {
   "cell_type": "markdown",
   "metadata": {
    "slideshow": {
     "slide_type": "slide"
    }
   },
   "source": [
    "# Who am I?\n",
    "\n",
    "Elizabeth Wickes\n",
    "\n",
    "Various types of contact info:\n",
    "\n",
    "* wickes1@illinois.edu\n",
    "* <a href=\"http://www.elizabethwickes.com\">elizabethwickes.com</a>\n",
    "* <a href=\"https://twitter.com/elliewix\">@elliewix</a>\n",
    "\n",
    "Metadata:\n",
    "\n",
    "* Data Curation Specialist within the Research Data Service, here at the University Library (UIUC)\n",
    "* Co-organizer of the Champaign-Urbana Python User's Group (Py-CU)\n",
    "* Currently teaching LIS 452 at the iSchool (intro to programming with Python)\n",
    "\n",
    "These materials are all CC-BY."
   ]
  },
  {
   "cell_type": "markdown",
   "metadata": {
    "slideshow": {
     "slide_type": "subslide"
    }
   },
   "source": [
    "# Teaching Style\n",
    "\n",
    "I want to take a moment to talk about my teaching style before we start really diving into the programming content.  \n",
    "\n",
    "* I will make you talk, but usually as a group.\n",
    "* I will try to keep you focused on practicing your vocabulary for these new concepts.\n",
    "* I will try to 'prime' you for certain concepts that will be coming up.\n",
    "    * Some of this may be introducing a concept that we will build on.\n",
    "    * Feel free to mentally check out in portions of the highly theoretical stuff.\n",
    "* There are no stupid questions:\n",
    "    * Only things I haven't explained yet, or explained poorly.\n",
    "    * Feel free to stop me if I'm being confusing.\n",
    "    * But I reserve the right to say that I'm getting to that :-)\n",
    "* We're all students and peers in this room.\n",
    "* Let me know if there are learning needs I can accommodate.\n",
    "\n",
    "This is a practical programming workshop, so I'm going to stick to the skills that I feel are vital for jumping into projcts.  However, this does not mean that we should skip over certain theoretical discussions.  If I'm talking about theoretical concepts it is because I feel like you need it.  This also means that I will be skipping over some more non-essential topics because you can pick them up on your own later."
   ]
  },
  {
   "cell_type": "markdown",
   "metadata": {
    "slideshow": {
     "slide_type": "subslide"
    }
   },
   "source": [
    "# And you?\n",
    "\n",
    "* Name\n",
    "* Institution\n",
    "* What brings you here?\n",
    "    * Curiosity?  Specific project?\n",
    "* What experience in programming do you have?"
   ]
  },
  {
   "cell_type": "markdown",
   "metadata": {
    "slideshow": {
     "slide_type": "slide"
    }
   },
   "source": [
    "## Software Checks!\n",
    "\n",
    "### Mac Users\n",
    "\n",
    "Open up terminal.  cmd + space, type in terminal. It is also in Applications.\n",
    "\n",
    "### Windows users\n",
    "\n",
    "Go ahead and install PyCharm.  It should install Python as part of it.  We can go over some other tools at the end as well."
   ]
  },
  {
   "cell_type": "markdown",
   "metadata": {
    "slideshow": {
     "slide_type": "slide"
    }
   },
   "source": [
    "# Topic 1: Historical overview of programming languages\n",
    "\n",
    "## Computers are amazing tools, but they aren't magic\n",
    "\n",
    "* Every computer has a specific language.\n",
    "* We need to be able to tell computers what to do, but in a way that we can speak."
   ]
  },
  {
   "cell_type": "markdown",
   "metadata": {
    "slideshow": {
     "slide_type": "slide"
    }
   },
   "source": [
    "## Programming languages can be classified into groups\n",
    "\n",
    "We're librarians, we like ontologies, right?\n",
    "\n",
    "*Very* roughly, programming languages can be described by their purpose and their style.\n"
   ]
  },
  {
   "cell_type": "markdown",
   "metadata": {
    "slideshow": {
     "slide_type": "fragment"
    }
   },
   "source": [
    "* Purpose:\n",
    "    * Web languages (HTML, PHP, JavaScript, etc...)\n",
    "    * Scripting (Python, Perl, R, etc...)\n",
    "    * Software languages (Java, C++, etc...)"
   ]
  },
  {
   "cell_type": "markdown",
   "metadata": {
    "slideshow": {
     "slide_type": "fragment"
    }
   },
   "source": [
    "* Style:\n",
    "    * Language syntax\n",
    "    * Abstraction level\n",
    "    * Methodological approach\n",
    "    * etc..."
   ]
  },
  {
   "cell_type": "markdown",
   "metadata": {
    "slideshow": {
     "slide_type": "fragment"
    }
   },
   "source": [
    "## That's neat, but what about Python?\n",
    "\n",
    "Python is a modern programming language and is the language of this workshop.  In this description universe, we can describe Python as:\n",
    "\n",
    "* A general purpose programming language, most commonly used for scripting\n",
    "    * But with growing web and software usage\n",
    "* A very high level language designed for clarity of expression"
   ]
  },
  {
   "cell_type": "markdown",
   "metadata": {
    "slideshow": {
     "slide_type": "slide"
    }
   },
   "source": [
    "## What is Python?\n",
    "\n",
    "<img src = 'pythonselfie.jpg'/>\n",
    "\n",
    "(A selfie with Python on the history of programming languages at the <a href = \"http://www.tnmoc.org/\">The National Museum of Computing</a> in Bletchley Park, UK. "
   ]
  },
  {
   "cell_type": "markdown",
   "metadata": {
    "slideshow": {
     "slide_type": "slide"
    }
   },
   "source": [
    "## Points of interest in the Python biography\n",
    "\n",
    "* Created by Guido van Rossum\n",
    "    * Who is now the <a href='http://en.wikipedia.org/wiki/Benevolent_dictator_for_life'>Benevolent Dictator for Life (BDFL)</a>\n",
    "* Is open source\n",
    "    * Community maintained\n",
    "    * Features created by its users\n",
    "        * Adapts quickly to industry needs\n",
    "    * Free to use\n",
    "    * Consensus based development\n",
    "* Based on the C language\n",
    "    * Everything written in Python is translated to C before being executed.\n",
    "    * This does make execution technically slower than in C, but this is rarely a problem unless you're doing scientific computing.\n",
    "* Was designed with a philosophy\n",
    "    * And this design philosophy is maintained by the community."
   ]
  },
  {
   "cell_type": "code",
   "execution_count": 1,
   "metadata": {
    "collapsed": false,
    "slideshow": {
     "slide_type": "subslide"
    }
   },
   "outputs": [
    {
     "name": "stdout",
     "output_type": "stream",
     "text": [
      "The Zen of Python, by Tim Peters\n",
      "\n",
      "Beautiful is better than ugly.\n",
      "Explicit is better than implicit.\n",
      "Simple is better than complex.\n",
      "Complex is better than complicated.\n",
      "Flat is better than nested.\n",
      "Sparse is better than dense.\n",
      "Readability counts.\n",
      "Special cases aren't special enough to break the rules.\n",
      "Although practicality beats purity.\n",
      "Errors should never pass silently.\n",
      "Unless explicitly silenced.\n",
      "In the face of ambiguity, refuse the temptation to guess.\n",
      "There should be one-- and preferably only one --obvious way to do it.\n",
      "Although that way may not be obvious at first unless you're Dutch.\n",
      "Now is better than never.\n",
      "Although never is often better than *right* now.\n",
      "If the implementation is hard to explain, it's a bad idea.\n",
      "If the implementation is easy to explain, it may be a good idea.\n",
      "Namespaces are one honking great idea -- let's do more of those!\n"
     ]
    }
   ],
   "source": [
    ">>> import this"
   ]
  },
  {
   "cell_type": "markdown",
   "metadata": {
    "slideshow": {
     "slide_type": "slide"
    }
   },
   "source": [
    "## Python can be said to be...\n",
    "\n",
    "* General purpose\n",
    "* Platform independent\n",
    "* An industry standard\n",
    "* <a href = \"http://cacm.acm.org/blogs/blog-cacm/176450-python-is-now-the-most-popular-introductory-teaching-language-at-top-us-universities/fulltext\">Currently the most popular language for introductory classes</a>\n",
    "\n",
    "It does this by being:\n",
    "\n",
    "* Interpreted\n",
    "* Strongly typed\n",
    "* Dynamic\n",
    "* .... ugh .....\n",
    "\n",
    "Let's get a chart out.  A lot of this chart will make more sense as we work through the material, so just try to keep the general concepts in mind and expect some fuzziness.\n"
   ]
  },
  {
   "cell_type": "markdown",
   "metadata": {
    "slideshow": {
     "slide_type": "subslide"
    }
   },
   "source": [
    "* x-axis - Explicitness:  Are datatypes able to dynamically change or must they be declared before use?\n",
    "* y-axis - \"Will it blend?\":  Does the language allow different datatypes to work together or does everything have to be the same?\n",
    "\n",
    "<img src='files/grid.png'/>"
   ]
  },
  {
   "cell_type": "markdown",
   "metadata": {
    "slideshow": {
     "slide_type": "slide"
    }
   },
   "source": [
    "## How did we get to Python?\n",
    "\n",
    "There is a fantastic history to this development, but a lot of the detail is beyond the scope of this workshop.  So I will stick to summing up the relevant facts that have gotten us to this point.\n",
    "\n",
    "Early computer languages started out very close to the computer's own language and were written for specific systems.  This made sense for the time, but was really hard.  These languages involve encoding both the \"what\" and the \"how\" with the instructions.  Early computer languages were far removed from human language."
   ]
  },
  {
   "cell_type": "markdown",
   "metadata": {
    "slideshow": {
     "slide_type": "subslide"
    }
   },
   "source": [
    "\n",
    "So what do I mean by very close to the computer language?  Let's try this situation:  Tell me how to walk across the room.\n",
    "\n",
    "* How we want to do it:  \"Walk to that spot over there.\"\n",
    "\n"
   ]
  },
  {
   "cell_type": "markdown",
   "metadata": {
    "slideshow": {
     "slide_type": "fragment"
    }
   },
   "source": [
    "However, this is presuming that I know how to walk.\n",
    "\n"
   ]
  },
  {
   "cell_type": "markdown",
   "metadata": {
    "slideshow": {
     "slide_type": "fragment"
    }
   },
   "source": [
    "* How those old languages would do it: \n",
    "    * Pick up your left foot\n",
    "    * Move it forward\n",
    "    * Place it down\n",
    "    * Steady, pause\n",
    "    * Pick up your right food\n",
    "    * Move it forward\n",
    "    * ...etc... You get the idea"
   ]
  },
  {
   "cell_type": "markdown",
   "metadata": {
    "slideshow": {
     "slide_type": "slide"
    }
   },
   "source": [
    "The evolution of these languages has taken a path of specialization, although almost all languages are moving further away from this highly explicit machine code. Various languages focused on data storage, business, or pure logic, and each of these contained more implicit knowledge, so that the programmer did not have to explictly define every single step of an operation.\n",
    "\n",
    "There have been a lot of languages, and new languages continue to be developed.  Of course, the development has been mostly by English speaking researchers and programmers, so the most commonly used langauges are very English-like.  But that's a story for a different conference..."
   ]
  },
  {
   "cell_type": "markdown",
   "metadata": {
    "slideshow": {
     "slide_type": "slide"
    }
   },
   "source": [
    "## How do we talk about programming languages?\n",
    "\n",
    "### Purpose and style\n",
    "\n",
    "Every language can be described in terms of the usage purpose and linguistic style.  "
   ]
  },
  {
   "cell_type": "markdown",
   "metadata": {
    "slideshow": {
     "slide_type": "subslide"
    }
   },
   "source": [
    "#### Purpose\n",
    "\n",
    "Programming languages exist for a reason or were created for a purpose.\n",
    "\n",
    "* A specific problem\n",
    "* An unfilled tool niche\n",
    "* As a beginner's learning langugage\n",
    "\n",
    "Examples:\n",
    "\n",
    "* PHP: initially created as someone's personal tool for websites and databases and has grown into a commercially used tool.\n",
    "* Python:  A hobby project that was started over the Christmas holidays.  Grew out of a philosophy about code.\n",
    "* Ada: Written to a US Department of Defense specification for use in military hardware, especially aviation. Designed to be highly robust so that planes don't fall out of the sky."
   ]
  },
  {
   "cell_type": "markdown",
   "metadata": {
    "slideshow": {
     "slide_type": "subslide"
    }
   },
   "source": [
    "\n",
    "#### Style\n",
    "\n",
    "Every language has a formal syntax for expressing ideas and actions.\n",
    "\n",
    "* Modern languages have nouns and verbs:  things and actions.\n",
    "* Some languages were explicitly created to express the syntax of formal logic.\n",
    "* Even though some keywords may look like English, that doesn't always mean the words make sense for what they actually do.\n",
    "    * `with` and `for` are good examples of this.  We'll be learning about each today.\n"
   ]
  },
  {
   "cell_type": "markdown",
   "metadata": {
    "slideshow": {
     "slide_type": "notes"
    }
   },
   "source": [
    "## How do we talk about programming languages?\n",
    "\n",
    "### Purpose and style\n",
    "\n",
    "Every language can be described in terms of the usage purpose and linguistic style.  \n",
    "\n",
    "#### Purpose\n",
    "\n",
    "Every language has a reason for existence.  Someone came up with it for a reason.  PHP is an interesting example of how the origins significantly influence the current usage.  PHP is one of the most commonly used langauges for dynamic websites was created by Rasmus Lerdorf for his own website and projects.  Having satisfied a need niche, others began asking to use the tool as well and adoption  grew to include even commercial enterprises.  However, because it was originally created as a personal project, there were little to no standards in place, and the language suffers from it's disorganized origins.\n",
    "\n",
    "While most languages can be adapted to nearly any type of prgammatic task, there are usually tasks that it has been optimized for.  For example, PHP is framed to deal with websites and connections to databases.  While it can be used for text processing purposes, it isn't exactly optimal or easy to do complex text processing tasks with it.  Python, however, has been extended with packages to be a powerful web language, but is highly optimized for working as a basic scripting language and includes excellent build in data and text processing tools.  Java, for example, lacks built in CSV reader libraries.\n",
    "\n",
    "#### Style\n",
    "\n",
    "We call programming languages \"languages\" because they are exactly that.  Each has a formal syntax for expressing actions and statements.  As I mentioned before, most commonly used programming languages are based around English.  However, this doesn't mean you should expect all of the vocabulary in those languages to make logical connections to English use.  Keywords will generally appear English-like or be real English words, but may be used in strange ways from what you expected.  Keep an open mind and put on your 'language learning hat' while going through this workshop.\n",
    "\n",
    "Remember that in our introductory courses we often started by simply memorizing certain phrases and formulas before diving deep into what the core syntax meant.  This is very much also true of programming languages."
   ]
  },
  {
   "cell_type": "markdown",
   "metadata": {
    "slideshow": {
     "slide_type": "slide"
    }
   },
   "source": [
    "## History of programming languages\n",
    "\n",
    "Things to look for in this chart:\n",
    "\n",
    "* Every language is connected to or influenced by another language.\n",
    "    * Sometimes this is due to a new language evolving directly out of an older one.\n",
    "    * Other times the creator can describe their influences for their design choices.\n",
    "* Knowing how a language was created is helpful as you move forward in learning other languages.\n",
    "* There are a lot of languages in active use.\n",
    "    * This speaks to the specialization that has occured in our modern era.\n",
    "    \n",
    "<a href = 'http://hightechhistory.files.wordpress.com/2010/04/history-poster20.gif'><img src='http://hightechhistory.files.wordpress.com/2010/04/history-poster20.gif'/></a>"
   ]
  },
  {
   "cell_type": "markdown",
   "metadata": {
    "slideshow": {
     "slide_type": "subslide"
    }
   },
   "source": [
    "## The modern programming languges\n",
    "\n",
    "This image provides an interesting overview of how these languages are used in industry.\n",
    "\n",
    "Note that Python is an industry standard language.\n",
    "\n",
    "<a href = 'http://cdn2.carlcheo.com/wp-content/uploads/2014/12/which-programming-language-should-i-learn-first-infographic.png'>This image is way too big to display here.  Click!</a>"
   ]
  },
  {
   "cell_type": "markdown",
   "metadata": {
    "slideshow": {
     "slide_type": "slide"
    }
   },
   "source": [
    "# Break time!"
   ]
  },
  {
   "cell_type": "markdown",
   "metadata": {
    "slideshow": {
     "slide_type": "slide"
    }
   },
   "source": [
    "# Topic 2: Nouns (objects/data types) and verbs (operators)\n",
    "\n",
    "How does a computer understand the world?  Always keep in mind that everything is just 0s and 1s.  We, as humans, can look at things and recognize their content.  Computers cannot do this.  They depend on us telling them what things are."
   ]
  },
  {
   "cell_type": "markdown",
   "metadata": {
    "slideshow": {
     "slide_type": "slide"
    }
   },
   "source": [
    "## Objects\n",
    "\n",
    "Everything in Python is an 'object.'  This is actually a very technical statement that we will expand and clarify as we go throughout the workshop, and something that you will continue to explore as you learn more about programming.  I don't expect you to completely grasp what this concept means, so the purpose of this discussion is to just introduce the basic framework that we can explore more later."
   ]
  },
  {
   "cell_type": "markdown",
   "metadata": {
    "slideshow": {
     "slide_type": "subslide"
    }
   },
   "source": [
    "### Object what now?\n",
    "\n",
    "<a href = 'http://www.oxforddictionaries.com/us/definition/american_english/object'>Oxford English Dictionary</a> has a definition:  \"A person or thing to which a specified action or feeling is directed\"\n",
    "\n",
    "This is the meaning that we want to focus on."
   ]
  },
  {
   "cell_type": "markdown",
   "metadata": {
    "slideshow": {
     "slide_type": "fragment"
    }
   },
   "source": [
    "Let's take a look at a book.  What can we do with a book?\n",
    "\n",
    "* Read it\n",
    "* Catalog it\n",
    "* Preserve it"
   ]
  },
  {
   "cell_type": "markdown",
   "metadata": {
    "slideshow": {
     "slide_type": "fragment"
    }
   },
   "source": [
    "What information does a book have?\n",
    "\n",
    "* A title\n",
    "* A certain number of pages\n",
    "* A summary of content\n",
    "* An author"
   ]
  },
  {
   "cell_type": "markdown",
   "metadata": {
    "slideshow": {
     "slide_type": "fragment"
    }
   },
   "source": [
    "There are actions that can be taken on books.\n",
    "\n",
    "* Read them\n",
    "* Write in them\n",
    "* Copy them\n",
    "* etc."
   ]
  },
  {
   "cell_type": "markdown",
   "metadata": {
    "slideshow": {
     "slide_type": "notes"
    }
   },
   "source": [
    "## Objects slide notes\n",
    "\n",
    "Would we eat a book?  Would we write with a book?  Not really.  Going back to our definition, we can see that an object can receive actions.  I can read a book.  I can look up the book's title.  However, there are actions that I can't do to it.  Every object, in this sense, can hold a set of actions and values.\n",
    "\n",
    "And that's the key phrase that I want you to keep in mind as we go through this workshop.  Every object within Python, and we'll talk about what those are in a moment, is capable of receiving certaint types of actions and holding certain types of information.  Of everyhting that I've said in the past few minutes, that's the take-away phrase that I want you to hold in your mind."
   ]
  },
  {
   "cell_type": "markdown",
   "metadata": {
    "slideshow": {
     "slide_type": "slide"
    }
   },
   "source": [
    "## Prepare for the programming Autobahn here...\n",
    "\n",
    "I'm going to dive straight into data types and operators.  These are the basic elements used to write Python programs.  Once we get through this section, you know enough vocabulary to start learning how to do the neat things.\n",
    "\n",
    "Buckle up, we're going to zip through this.\n",
    "\n",
    "Remember, focus on listening and ingesting the concepts rather than writing down all the terminology.  The keywords will be repeated and you can always reference the slides as we move forward."
   ]
  },
  {
   "cell_type": "markdown",
   "metadata": {
    "slideshow": {
     "slide_type": "slide"
    }
   },
   "source": [
    "## Python's core data types (or core to the beginner interested in data)\n",
    "\n",
    "Going back to our analogy to human language, these data types are basically the types of nouns that we can have in our sentences.  They are the things that we talk about, the things that we do actions to.  There are actually a ton of different data types within Python, but I'm going to cover just the core ones that you need to care about immediately.  You'll pick up the other types as you do more, and most of the others are built on top of what I will be talking about.\n",
    "\n",
    "There are four groups this workshop will cover:  numbers, words, booleans, and containers.  The current section will cover the first three. A special section on containers will come later.\n",
    "\n",
    "We're going to meet our first helpful Python tool:  `type()`.  Throw something inside the `()` and Python will tell you what type of object it is seeing. The technical word for these tools are functions. We'll describe functions in more detail later.\n",
    "\n",
    "We're going to cover the big three now:\n",
    "\n",
    "* Numbers\n",
    "* Words\n",
    "* Booleans"
   ]
  },
  {
   "cell_type": "markdown",
   "metadata": {
    "slideshow": {
     "slide_type": "slide"
    }
   },
   "source": [
    "## Numbers\n",
    "\n",
    "Computers represent and store numbers differently than humans.  Languages like Java actually have five different numerical data types.  Python (at least in everyday use) only requires programmers to deal with two numerical datatypes. Why would we need more than one way to store numbers in the first place?\n",
    "\n",
    "This has to do with the legacy of early computing and how computers store data in memory. The key fact is that storing some kinds of numbers takes up less memory than other types of numbers.  With 64 units of memory space, practically any number can be stored. However, not all numbers need that much space. The vast majority of numbers only need 16 units of memory space. \n",
    "\n",
    "Recall our earlier discussion about how early computer languages were closer to the computer's internal structure. When memory was very limited and expensive, allowing a number to take up more memory than necessary could render a project impossible from an engineering or budgetary perspective.  Programmers gained a real benefit from the variety of numerical data types that allowed them fine control over how much memory to allocate for each number they needed to store.\n",
    "\n",
    "Compared to the early days of computing, the amount of memory available in today's computers is incredibly huge and cheap (though not infinite!) Programmers can afford to be more relaxed when it comes to managing memory. Python is also better than early languages at automatically deciding how much memory is needed to store a given number and so takes care of much of this in the background for us.  However, there are still two different numerical data types that we need to remember:\n",
    "\n",
    "* integers (whole numbers)\n",
    "* floating point number (decimal numbers)"
   ]
  },
  {
   "cell_type": "markdown",
   "metadata": {
    "slideshow": {
     "slide_type": "subslide"
    }
   },
   "source": [
    "### Integers:  Whole numbers\n",
    "\n",
    "The `int` type, short for integer, is used for whole numbers, numbers without any decimal points.  "
   ]
  },
  {
   "cell_type": "code",
   "execution_count": 1,
   "metadata": {
    "collapsed": false,
    "slideshow": {
     "slide_type": "fragment"
    }
   },
   "outputs": [
    {
     "data": {
      "text/plain": [
       "2"
      ]
     },
     "execution_count": 1,
     "metadata": {},
     "output_type": "execute_result"
    }
   ],
   "source": [
    "1 + 1"
   ]
  },
  {
   "cell_type": "code",
   "execution_count": 2,
   "metadata": {
    "collapsed": false,
    "slideshow": {
     "slide_type": "fragment"
    }
   },
   "outputs": [
    {
     "data": {
      "text/plain": [
       "int"
      ]
     },
     "execution_count": 2,
     "metadata": {},
     "output_type": "execute_result"
    }
   ],
   "source": [
    "type(1)"
   ]
  },
  {
   "cell_type": "markdown",
   "metadata": {
    "slideshow": {
     "slide_type": "subslide"
    }
   },
   "source": [
    "### Floating point numbers:  Numbers with decimal values\n",
    "\n",
    "The `float` type, short for floating point number, is any number with a decimal value."
   ]
  },
  {
   "cell_type": "code",
   "execution_count": 8,
   "metadata": {
    "collapsed": false,
    "slideshow": {
     "slide_type": "fragment"
    }
   },
   "outputs": [
    {
     "data": {
      "text/plain": [
       "4.0"
      ]
     },
     "execution_count": 8,
     "metadata": {},
     "output_type": "execute_result"
    }
   ],
   "source": [
    "1.5 + 2.5"
   ]
  },
  {
   "cell_type": "code",
   "execution_count": 9,
   "metadata": {
    "collapsed": false,
    "slideshow": {
     "slide_type": "fragment"
    }
   },
   "outputs": [
    {
     "data": {
      "text/plain": [
       "1.8"
      ]
     },
     "execution_count": 9,
     "metadata": {},
     "output_type": "execute_result"
    }
   ],
   "source": [
    "1.5 + .3"
   ]
  },
  {
   "cell_type": "code",
   "execution_count": 10,
   "metadata": {
    "collapsed": false,
    "slideshow": {
     "slide_type": "fragment"
    }
   },
   "outputs": [
    {
     "data": {
      "text/plain": [
       "float"
      ]
     },
     "execution_count": 10,
     "metadata": {},
     "output_type": "execute_result"
    }
   ],
   "source": [
    "type(1.5)"
   ]
  },
  {
   "cell_type": "markdown",
   "metadata": {
    "slideshow": {
     "slide_type": "subslide"
    }
   },
   "source": [
    "### Interaction of `int` and `float`\n",
    "\n",
    "`int` and `float` numbers get along pretty well, but there are some aspects which you might find surprising. We'll go into more detail about this later.  (You haven't met some of these operators yet, but you can understand the basics!)"
   ]
  },
  {
   "cell_type": "code",
   "execution_count": 3,
   "metadata": {
    "collapsed": false,
    "slideshow": {
     "slide_type": "fragment"
    }
   },
   "outputs": [
    {
     "data": {
      "text/plain": [
       "1.4"
      ]
     },
     "execution_count": 3,
     "metadata": {},
     "output_type": "execute_result"
    }
   ],
   "source": [
    "1 + 0.4"
   ]
  },
  {
   "cell_type": "code",
   "execution_count": 4,
   "metadata": {
    "collapsed": false,
    "slideshow": {
     "slide_type": "fragment"
    }
   },
   "outputs": [
    {
     "data": {
      "text/plain": [
       "3.9"
      ]
     },
     "execution_count": 4,
     "metadata": {},
     "output_type": "execute_result"
    }
   ],
   "source": [
    "4 - .1"
   ]
  },
  {
   "cell_type": "code",
   "execution_count": 5,
   "metadata": {
    "collapsed": false,
    "slideshow": {
     "slide_type": "fragment"
    }
   },
   "outputs": [
    {
     "data": {
      "text/plain": [
       "int"
      ]
     },
     "execution_count": 5,
     "metadata": {},
     "output_type": "execute_result"
    }
   ],
   "source": [
    "type(1)"
   ]
  },
  {
   "cell_type": "code",
   "execution_count": 6,
   "metadata": {
    "collapsed": false,
    "slideshow": {
     "slide_type": "fragment"
    }
   },
   "outputs": [
    {
     "data": {
      "text/plain": [
       "float"
      ]
     },
     "execution_count": 6,
     "metadata": {},
     "output_type": "execute_result"
    }
   ],
   "source": [
    "type(1.0)"
   ]
  },
  {
   "cell_type": "code",
   "execution_count": 7,
   "metadata": {
    "collapsed": false,
    "slideshow": {
     "slide_type": "fragment"
    }
   },
   "outputs": [
    {
     "data": {
      "text/plain": [
       "True"
      ]
     },
     "execution_count": 7,
     "metadata": {},
     "output_type": "execute_result"
    }
   ],
   "source": [
    "1 == 1.0"
   ]
  },
  {
   "cell_type": "markdown",
   "metadata": {
    "slideshow": {
     "slide_type": "slide"
    }
   },
   "source": [
    "## Words\n",
    "\n",
    "Words are pretty simple here.  All the basic characters you see, the ones you can see and type on your keyboard, are represented as characters.  These characters can be strung together as strings! (pun intended)\n",
    "\n",
    "### Strings\n",
    "\n",
    "The `str` type, short for string, contains character data.  There are three ways to indicate that something is a string.\n",
    "\n",
    "\n",
    "`\"like this, with double quotes\"`\n",
    "\n",
    "`'or like this, with single quotes'`\n",
    "\n",
    "`\"\"\" or use`<br>\n",
    "`three double quotes`<br>\n",
    "`together to make`<br>\n",
    "`a multi-line string\"\"\"`\n",
    "\n",
    "Feel free to use either ' or \", but try to be consistent.  The multi-line string is generally used either for certain types of documentation modes.\n"
   ]
  },
  {
   "cell_type": "markdown",
   "metadata": {
    "slideshow": {
     "slide_type": "subslide"
    }
   },
   "source": [
    "### Why do we need three different ways to write strings?\n"
   ]
  },
  {
   "cell_type": "code",
   "execution_count": 12,
   "metadata": {
    "collapsed": false,
    "slideshow": {
     "slide_type": "fragment"
    }
   },
   "outputs": [
    {
     "name": "stdout",
     "output_type": "stream",
     "text": [
      "Feel free to use either single or double quotes\n",
      "You just need to make them match.\n"
     ]
    }
   ],
   "source": [
    "print \"Feel free to use either single or double quotes\"\n",
    "\n",
    "print 'You just need to make them match.'"
   ]
  },
  {
   "cell_type": "markdown",
   "metadata": {
    "slideshow": {
     "slide_type": "subslide"
    }
   },
   "source": [
    "### So what if you need to put a double quote in a string?\n"
   ]
  },
  {
   "cell_type": "code",
   "execution_count": 11,
   "metadata": {
    "collapsed": false,
    "slideshow": {
     "slide_type": "fragment"
    }
   },
   "outputs": [
    {
     "name": "stdout",
     "output_type": "stream",
     "text": [
      "You can escape it out, like this: \" see the backslash?\n"
     ]
    }
   ],
   "source": [
    "print \"You can escape it out, like this: \\\" see the backslash?\""
   ]
  },
  {
   "cell_type": "markdown",
   "metadata": {
    "slideshow": {
     "slide_type": "subslide"
    }
   },
   "source": [
    "### Remember that the quotes tells Python that something is a string"
   ]
  },
  {
   "cell_type": "code",
   "execution_count": 13,
   "metadata": {
    "collapsed": false,
    "slideshow": {
     "slide_type": "fragment"
    }
   },
   "outputs": [
    {
     "data": {
      "text/plain": [
       "str"
      ]
     },
     "execution_count": 13,
     "metadata": {},
     "output_type": "execute_result"
    }
   ],
   "source": [
    "type(\"1\")"
   ]
  },
  {
   "cell_type": "code",
   "execution_count": 14,
   "metadata": {
    "collapsed": false,
    "slideshow": {
     "slide_type": "fragment"
    }
   },
   "outputs": [
    {
     "data": {
      "text/plain": [
       "int"
      ]
     },
     "execution_count": 14,
     "metadata": {},
     "output_type": "execute_result"
    }
   ],
   "source": [
    "type(1)"
   ]
  },
  {
   "cell_type": "code",
   "execution_count": 15,
   "metadata": {
    "collapsed": false,
    "slideshow": {
     "slide_type": "fragment"
    }
   },
   "outputs": [
    {
     "data": {
      "text/plain": [
       "False"
      ]
     },
     "execution_count": 15,
     "metadata": {},
     "output_type": "execute_result"
    }
   ],
   "source": [
    "1 == \"1\""
   ]
  },
  {
   "cell_type": "markdown",
   "metadata": {},
   "source": [
    "# String operations"
   ]
  },
  {
   "cell_type": "markdown",
   "metadata": {
    "slideshow": {
     "slide_type": "subslide"
    }
   },
   "source": [
    "## Navigating a string\n",
    "\n",
    "Strings can be sliced, meaning that subsections can be accessed.  The slicing notation is:\n",
    "\n",
    "`string[start:stop:step]`\n",
    "\n",
    "* `start` is the index position to start at\n",
    "    * Assumes start if omitted\n",
    "* `stop` is the index position to stop at\n",
    "    * Assumes end if omitted\n",
    "* `step` is how many positions to move over\n",
    "    * Assumes 1 if omitted\n",
    "    \n",
    "Let's open up your interactive session and test this out."
   ]
  },
  {
   "cell_type": "code",
   "execution_count": 78,
   "metadata": {
    "collapsed": false,
    "slideshow": {
     "slide_type": "fragment"
    }
   },
   "outputs": [
    {
     "name": "stdout",
     "output_type": "stream",
     "text": [
      "hello\n",
      "hello\n",
      "hlo\n"
     ]
    }
   ],
   "source": [
    "print \"hello\"[:] # everything\n",
    "print \"hello\"[0:len(\"hello\")] # also everything\n",
    "print \"hello\"[::2] # skip every other letter"
   ]
  },
  {
   "cell_type": "code",
   "execution_count": 74,
   "metadata": {
    "collapsed": false,
    "slideshow": {
     "slide_type": "fragment"
    }
   },
   "outputs": [
    {
     "name": "stdout",
     "output_type": "stream",
     "text": [
      "h\n",
      "o\n"
     ]
    }
   ],
   "source": [
    "print \"hello\"[0] # first letter\n",
    "print \"hello\"[-1] # last letter"
   ]
  },
  {
   "cell_type": "code",
   "execution_count": 77,
   "metadata": {
    "collapsed": false,
    "slideshow": {
     "slide_type": "fragment"
    }
   },
   "outputs": [
    {
     "name": "stdout",
     "output_type": "stream",
     "text": [
      "he\n"
     ]
    }
   ],
   "source": [
    "print \"hello\"[0:2] # yup, indexing starts at 0"
   ]
  },
  {
   "cell_type": "markdown",
   "metadata": {
    "slideshow": {
     "slide_type": "fragment"
    }
   },
   "source": [
    "You try a few on your own:\n",
    "\n",
    "* get just the l's\n",
    "* skip every three letters\n",
    "\n",
    "Anything else neat?"
   ]
  },
  {
   "cell_type": "markdown",
   "metadata": {
    "slideshow": {
     "slide_type": "slide"
    }
   },
   "source": [
    "## Boolean values\n",
    "\n",
    "These are the data types that we use to investigate things.  There are only two values to remember:\n",
    "\n",
    "* `True`\n",
    "* `False`\n",
    "\n",
    "You should recall seeing these appear in some of our previous examples."
   ]
  },
  {
   "cell_type": "markdown",
   "metadata": {
    "slideshow": {
     "slide_type": "subslide"
    }
   },
   "source": [
    "### Checking for true and false in programs\n",
    "\n",
    "Many times we want to check if something equals another thing.  For example:\n",
    "\n",
    "* Is this a title that I have seen already?\n",
    "* Was this word found more than 100 times?\n",
    "* Is the length of the word longer than 10 characters?\n",
    "\n",
    "These are all questions that we might need to ask in our programs.  The answers we receive come in the form of `bool` objects (`True` and `False`)."
   ]
  },
  {
   "cell_type": "markdown",
   "metadata": {
    "slideshow": {
     "slide_type": "subslide"
    }
   },
   "source": [
    "That's pretty much everything you need to know!  Let's look at some examples:\n",
    "\n",
    "(again, there is some notation here that you haven't met before, but you will soon)"
   ]
  },
  {
   "cell_type": "code",
   "execution_count": 17,
   "metadata": {
    "collapsed": false,
    "slideshow": {
     "slide_type": "fragment"
    }
   },
   "outputs": [
    {
     "data": {
      "text/plain": [
       "True"
      ]
     },
     "execution_count": 17,
     "metadata": {},
     "output_type": "execute_result"
    }
   ],
   "source": [
    "1 == 1"
   ]
  },
  {
   "cell_type": "code",
   "execution_count": 18,
   "metadata": {
    "collapsed": false,
    "slideshow": {
     "slide_type": "fragment"
    }
   },
   "outputs": [
    {
     "data": {
      "text/plain": [
       "True"
      ]
     },
     "execution_count": 18,
     "metadata": {},
     "output_type": "execute_result"
    }
   ],
   "source": [
    "5 < 10"
   ]
  },
  {
   "cell_type": "code",
   "execution_count": 20,
   "metadata": {
    "collapsed": false,
    "slideshow": {
     "slide_type": "fragment"
    }
   },
   "outputs": [
    {
     "data": {
      "text/plain": [
       "False"
      ]
     },
     "execution_count": 20,
     "metadata": {},
     "output_type": "execute_result"
    }
   ],
   "source": [
    "len(\"foo\") > 5 # len() checks the length of whatever you pass it"
   ]
  },
  {
   "cell_type": "markdown",
   "metadata": {
    "slideshow": {
     "slide_type": "fragment"
    }
   },
   "source": [
    "We'll meet up again with boolean types when we get into conditionals."
   ]
  },
  {
   "cell_type": "markdown",
   "metadata": {
    "slideshow": {
     "slide_type": "slide"
    }
   },
   "source": [
    "## Switching gears...\n",
    "\n",
    "Now that we know the basic data types for our content, let's talk a little bit about operators and how to perform operations on these data types.  Then we'll talk about containers in the next section."
   ]
  },
  {
   "cell_type": "markdown",
   "metadata": {
    "slideshow": {
     "slide_type": "slide"
    }
   },
   "source": [
    "### Operators\n",
    "\n",
    "Now that we know a little bit about the nouns that we use within our programs, let's start exploring some of the verbs.\n",
    "\n",
    "Operators are the most basic actions that we can take on objects.  These comprise mostly the traditional math operations that you remember from elementary school, but some can be used outside of math concepts."
   ]
  },
  {
   "cell_type": "markdown",
   "metadata": {
    "slideshow": {
     "slide_type": "subslide"
    }
   },
   "source": [
    "### The basic operators\n",
    "\n",
    "\n",
    "| Operator |                       Numeric Operation                       | Example |\n",
    "|:--------:|:-------------------------------------------------------------:|:----------------:|\n",
    "| +        | Addition                                                      | `>>> 2 + 5` <br> `7` | \n",
    "| -        | Subtraction                                                   | `>>> 2 - 5` <br> `-3` | \n",
    "| *        | Multiplication                                                | `>>> 2 * 5` <br> `10` | \n",
    "| **       | Exponent                                                      | `>>> 2 ** 5` <br> `32` | \n",
    "| /        | division <br>Python2.\\*: floor division<br>Python 3.\\*: true division | `>>> 2 / 5` <br> `0`<br>`>>> 2. / 5.` <br> `0.4` | \n",
    "| //       | floor division<br>both 2.\\* and 3.\\*                            | `>>> 2 // 5` <br> `0`<br>`>>> 2. // 5.` <br> `0.0` | \n",
    "| %        | modulo<br>(returns the remainder)                                | `>>> 2 % 5` <br> `2`<br>`>>> 4 % 2` <br> `0` | "
   ]
  },
  {
   "cell_type": "markdown",
   "metadata": {
    "slideshow": {
     "slide_type": "subslide"
    }
   },
   "source": [
    "### Extended discussion on division\n",
    "\n",
    "Division in Python 2 and Python 3 works differently.\n",
    "\n",
    "* True division\n",
    "    * This is division that includes the full decimal value.\n",
    "    * When we say \"division\" we generally mean \"true division\"\n",
    "* Floor division\n",
    "    * This type of division removes whatever that decimal value is and returns the integer."
   ]
  },
  {
   "cell_type": "markdown",
   "metadata": {
    "slideshow": {
     "slide_type": "subslide"
    }
   },
   "source": [
    "To get true division in Python 2:\n",
    "\n",
    "* Convert your ints into floats\n",
    "* Use `from __future__ import division`"
   ]
  },
  {
   "cell_type": "code",
   "execution_count": 23,
   "metadata": {
    "collapsed": false,
    "slideshow": {
     "slide_type": "fragment"
    }
   },
   "outputs": [
    {
     "data": {
      "text/plain": [
       "0"
      ]
     },
     "execution_count": 23,
     "metadata": {},
     "output_type": "execute_result"
    }
   ],
   "source": [
    "2 / 5"
   ]
  },
  {
   "cell_type": "code",
   "execution_count": 26,
   "metadata": {
    "collapsed": false,
    "slideshow": {
     "slide_type": "fragment"
    }
   },
   "outputs": [
    {
     "data": {
      "text/plain": [
       "0.4"
      ]
     },
     "execution_count": 26,
     "metadata": {},
     "output_type": "execute_result"
    }
   ],
   "source": [
    "2. / 5.\n"
   ]
  },
  {
   "cell_type": "code",
   "execution_count": 27,
   "metadata": {
    "collapsed": false,
    "slideshow": {
     "slide_type": "fragment"
    }
   },
   "outputs": [
    {
     "data": {
      "text/plain": [
       "0.4"
      ]
     },
     "execution_count": 27,
     "metadata": {},
     "output_type": "execute_result"
    }
   ],
   "source": [
    "from __future__ import division\n",
    "\n",
    "2 / 5"
   ]
  },
  {
   "cell_type": "markdown",
   "metadata": {
    "slideshow": {
     "slide_type": "subslide"
    }
   },
   "source": [
    "### Modulo?\n",
    "\n",
    "Referred to as 'mod', modulo returns the remainder of your division value.\n",
    "\n",
    "Remember the parts of a division calculation:\n",
    "\n",
    "* Quotient\n",
    "    * The 'whole number' value\n",
    "* Remainder\n",
    "    * What is 'left over'\n",
    "    \n",
    "What is reutned from modulo is not the decimal value!"
   ]
  },
  {
   "cell_type": "code",
   "execution_count": 29,
   "metadata": {
    "collapsed": false,
    "slideshow": {
     "slide_type": "fragment"
    }
   },
   "outputs": [
    {
     "data": {
      "text/plain": [
       "2.5"
      ]
     },
     "execution_count": 29,
     "metadata": {},
     "output_type": "execute_result"
    }
   ],
   "source": [
    "5. / 2."
   ]
  },
  {
   "cell_type": "code",
   "execution_count": 30,
   "metadata": {
    "collapsed": false,
    "slideshow": {
     "slide_type": "fragment"
    }
   },
   "outputs": [
    {
     "data": {
      "text/plain": [
       "1"
      ]
     },
     "execution_count": 30,
     "metadata": {},
     "output_type": "execute_result"
    }
   ],
   "source": [
    "5 % 2"
   ]
  },
  {
   "cell_type": "markdown",
   "metadata": {
    "slideshow": {
     "slide_type": "subslide"
    }
   },
   "source": [
    "#### Remainders and decimals in context\n",
    "\n",
    "(AKA: Elizabeth suffered through elementary school flashbacks to make this slide)\n",
    "\n",
    "<img src = \"longdivision2.png\"/> <img src = \"longdiv1.png\"/> "
   ]
  },
  {
   "cell_type": "markdown",
   "metadata": {
    "slideshow": {
     "slide_type": "subslide"
    }
   },
   "source": [
    "## More operators\n",
    "\n",
    "The concept of 'overloading' in programming means that the same name or symbol may be used in multiple contexts.  Some of the operators that we just learned about will work with other data types than numbers."
   ]
  },
  {
   "cell_type": "code",
   "execution_count": 38,
   "metadata": {
    "collapsed": false,
    "slideshow": {
     "slide_type": "fragment"
    }
   },
   "outputs": [
    {
     "data": {
      "text/plain": [
       "'aa'"
      ]
     },
     "execution_count": 38,
     "metadata": {},
     "output_type": "execute_result"
    }
   ],
   "source": [
    "\"a\" + \"a\""
   ]
  },
  {
   "cell_type": "code",
   "execution_count": 37,
   "metadata": {
    "collapsed": false,
    "slideshow": {
     "slide_type": "fragment"
    }
   },
   "outputs": [
    {
     "data": {
      "text/plain": [
       "'hellohellohellohello'"
      ]
     },
     "execution_count": 37,
     "metadata": {},
     "output_type": "execute_result"
    }
   ],
   "source": [
    "\"hello\" * 4"
   ]
  },
  {
   "cell_type": "code",
   "execution_count": 39,
   "metadata": {
    "collapsed": false,
    "slideshow": {
     "slide_type": "fragment"
    }
   },
   "outputs": [
    {
     "data": {
      "text/plain": [
       "'hello     world'"
      ]
     },
     "execution_count": 39,
     "metadata": {},
     "output_type": "execute_result"
    }
   ],
   "source": [
    "\"hello\" + \" \" * 5 + \"world\""
   ]
  },
  {
   "cell_type": "markdown",
   "metadata": {
    "slideshow": {
     "slide_type": "fragment"
    }
   },
   "source": [
    "Can you create a concatenation of the first and last letters of `\"hello\"`?"
   ]
  },
  {
   "cell_type": "markdown",
   "metadata": {
    "slideshow": {
     "slide_type": "slide"
    }
   },
   "source": [
    "# Variables\n",
    "\n",
    "So now that we can do some neat things with objects and operations, let's start talking about variables."
   ]
  },
  {
   "cell_type": "markdown",
   "metadata": {
    "slideshow": {
     "slide_type": "fragment"
    }
   },
   "source": [
    "Sometimes we need to give things name.  For example, if a value will be repeated throughout a program you might want to just name it so you can ask for it later.\n",
    "\n",
    "Imagine mad libs. It asks you for nouns, names, verbs, adjectives, etc.  You supply them, and then a story is built from those values."
   ]
  },
  {
   "cell_type": "code",
   "execution_count": 49,
   "metadata": {
    "collapsed": false,
    "slideshow": {
     "slide_type": "fragment"
    }
   },
   "outputs": [],
   "source": [
    "name = \"Dani\"\n",
    "color = \"teal\"\n",
    "noun = \"cat\""
   ]
  },
  {
   "cell_type": "code",
   "execution_count": 50,
   "metadata": {
    "collapsed": false,
    "slideshow": {
     "slide_type": "fragment"
    }
   },
   "outputs": [
    {
     "name": "stdout",
     "output_type": "stream",
     "text": [
      "Dani asked me, \"So what kind of cat do you want?\"\n",
      "I don't know what kind of cat I want!  Who wants a teal cat?\n",
      "So I just said, \"Give me whatever kind of teal cat you have in stock, Dani\"\n"
     ]
    }
   ],
   "source": [
    "print name + \" asked me, \\\"So what kind of \" + noun + \" do you want?\\\"\"\n",
    "print \"I don't know what kind of \" + noun + \" I want!  Who wants a \" + color + \" \" + noun + \"?\"\n",
    "print \"So I just said, \\\"Give me whatever kind of \" + color + \" \" + noun + \" you have in stock, \" + name + \"\\\"\""
   ]
  },
  {
   "cell_type": "markdown",
   "metadata": {
    "slideshow": {
     "slide_type": "subslide"
    }
   },
   "source": [
    "Let's explore this more in PyCharm.\n",
    "\n",
    "Tasks:\n",
    "\n",
    "* Change the values a few times\n",
    "* Add a number in here\n",
    "    * Example:  \"Who wants 8 teal cats??\"\n",
    "* Add an adjective\n",
    "    * Example:  \"Who wans 9 fizzy cats?\"\n",
    "    \n",
    "Remember that you need `+` between all your elements.\n",
    "Just use one `=` sign for assignment.\n",
    "Be sure that your quotes match on either side.\n"
   ]
  },
  {
   "cell_type": "markdown",
   "metadata": {
    "slideshow": {
     "slide_type": "slide"
    }
   },
   "source": [
    "# Working through a programming problem\n",
    "\n",
    "Let's work through a problem just using your own language.\n",
    "\n",
    "Task:  Write a set of rules for assigning a letter grade to a numerical score.\n",
    "\n",
    "Write out the rules using whatever natural language you are comfortable with.\n",
    "\n",
    "Be sure to think about:\n",
    "\n",
    "* What kind of input are you expecting?\n",
    "* What are 'good' values and what are 'bad' values?\n",
    "    * Should you handle bad values differently?\n",
    "* Are all 'good' values supported?\n",
    "\n",
    "Take about 10 minues to brainstorm.  Feel free to work on groups and ask each other questions.\n",
    "\n",
    "## Test values\n",
    "\n",
    "* 101\n",
    "* 99.9\n",
    "* 70\n",
    "* 49\n",
    "* 0\n",
    "* 100\n",
    "* -1\n",
    "* 150\n",
    "\n",
    "<a href = \"https://trinket.io/library/trinkets/19793572bd\">Link to an example version</a>\n",
    "\n",
    "## What we came up with in class\n",
    "\n",
    "* 0-100 scale, no extra credit\n",
    "\n",
    "* F: >= 0 and < 59.5\n",
    "* D:  >= 59.5 and < 69.5\n",
    "* C:  >= 69.5 and < 79.5\n",
    "* B:  >= 79.5 and < 89.5\n",
    "* A:  >= 89.5 and <= 100\n",
    "\n",
    "* Greater than 100: Error\n",
    "* Less than 0:  Error\n",
    "* Anything not a number: error"
   ]
  },
  {
   "cell_type": "markdown",
   "metadata": {},
   "source": [
    "## Functions\n",
    "\n",
    "Functions are a useful construct to make a specific sequence of code into something you can reuse.  When I give you directions to somewhere that include, turn left, turn right, walk forward, etc. I'm calling your internal code on how to manouver yourself around, how you turn left, and how you turn right.  Those are repeatable actions that you know how to do.\n",
    "\n",
    "Functions also have the capability of taking an input and an output.  Both are optional, but it'll be rare that you write a function that doesn't process something and return it.  You pass a function parameters, which are the input.  The function then returns values that you can utilize.  Imagine a dry cleaning drive up service.  You drive up and pass your clothes to them through the window.  They take those clothes in, process them, and then return them to you from the window.  You don't really know what's happening inside the cleaner's building, but you know your clothes are returned to you cleaned according to direction.\n",
    "\n",
    "The basic syntax for a function is:\n",
    "\n",
    "```python\n",
    "def clean_clothes(dirty):\n",
    "    clean = dirty.clean(dirty) # completely fictional code here\n",
    "    return clean\n",
    "```\n",
    "\n",
    "Using more real terms:"
   ]
  },
  {
   "cell_type": "code",
   "execution_count": 5,
   "metadata": {
    "collapsed": false
   },
   "outputs": [
    {
     "name": "stdout",
     "output_type": "stream",
     "text": [
      "5\n"
     ]
    }
   ],
   "source": [
    "def x_plus_y(x, y):\n",
    "    answer = x + y\n",
    "    return answer\n",
    "    \n",
    "print(x_plus_y(2, 3))"
   ]
  },
  {
   "cell_type": "markdown",
   "metadata": {},
   "source": [
    "Now that we've defined this function, we can use it other places, or in the middle of things."
   ]
  },
  {
   "cell_type": "code",
   "execution_count": 7,
   "metadata": {
    "collapsed": false
   },
   "outputs": [
    {
     "data": {
      "text/plain": [
       "10"
      ]
     },
     "execution_count": 7,
     "metadata": {},
     "output_type": "execute_result"
    }
   ],
   "source": [
    "x_plus_y(2, 3) + x_plus_y(1, 4)"
   ]
  },
  {
   "cell_type": "markdown",
   "metadata": {},
   "source": [
    "One of the strangest things to grapple within about functions is that when Python reads a function definition, it only *learns* the function code, it doesn't actually execute the code.  \n",
    "\n",
    "This means that this will work:"
   ]
  },
  {
   "cell_type": "code",
   "execution_count": 8,
   "metadata": {
    "collapsed": true
   },
   "outputs": [],
   "source": [
    "def math_impossible(x):\n",
    "    print(x/0)"
   ]
  },
  {
   "cell_type": "markdown",
   "metadata": {},
   "source": [
    "But now this will fail:"
   ]
  },
  {
   "cell_type": "code",
   "execution_count": 9,
   "metadata": {
    "collapsed": false
   },
   "outputs": [
    {
     "ename": "ZeroDivisionError",
     "evalue": "integer division or modulo by zero",
     "output_type": "error",
     "traceback": [
      "\u001b[0;31m---------------------------------------------------------------------------\u001b[0m",
      "\u001b[0;31mZeroDivisionError\u001b[0m                         Traceback (most recent call last)",
      "\u001b[0;32m<ipython-input-9-91e293825ac9>\u001b[0m in \u001b[0;36m<module>\u001b[0;34m()\u001b[0m\n\u001b[0;32m----> 1\u001b[0;31m \u001b[0mmath_impossible\u001b[0m\u001b[0;34m(\u001b[0m\u001b[0;36m5\u001b[0m\u001b[0;34m)\u001b[0m\u001b[0;34m\u001b[0m\u001b[0m\n\u001b[0m",
      "\u001b[0;32m<ipython-input-8-a88dedcde986>\u001b[0m in \u001b[0;36mmath_impossible\u001b[0;34m(x)\u001b[0m\n\u001b[1;32m      1\u001b[0m \u001b[0;32mdef\u001b[0m \u001b[0mmath_impossible\u001b[0m\u001b[0;34m(\u001b[0m\u001b[0mx\u001b[0m\u001b[0;34m)\u001b[0m\u001b[0;34m:\u001b[0m\u001b[0;34m\u001b[0m\u001b[0m\n\u001b[0;32m----> 2\u001b[0;31m     \u001b[0;32mprint\u001b[0m\u001b[0;34m(\u001b[0m\u001b[0mx\u001b[0m\u001b[0;34m/\u001b[0m\u001b[0;36m0\u001b[0m\u001b[0;34m)\u001b[0m\u001b[0;34m\u001b[0m\u001b[0m\n\u001b[0m",
      "\u001b[0;31mZeroDivisionError\u001b[0m: integer division or modulo by zero"
     ]
    }
   ],
   "source": [
    "math_impossible(5)"
   ]
  },
  {
   "cell_type": "markdown",
   "metadata": {},
   "source": [
    "Think of it this way:  You've been given a recipe for something you've never baked before.  You take the recipe card and save it for later.  Maybe you glance at it, but without actually going through all the steps you can't tell if it seems impossible or not.\n",
    "\n",
    "Flash forward to when you decide to cook it.  You get through the first three steps, but the fourth asks you to bread and fry the boogles.  You have no idea what a boogle is, much less how to bread and fry it.  The ingrediant list didn't specify that you needed to have any boogles or what they were.  You cannot continue without more information so you stop cooking.  You decide to call the person who gave you the recipe and say, \"I don't know what a boogle is.\""
   ]
  },
  {
   "cell_type": "code",
   "execution_count": 10,
   "metadata": {
    "collapsed": true
   },
   "outputs": [],
   "source": [
    "def add_to_boogle(x):\n",
    "    return boogle + x"
   ]
  },
  {
   "cell_type": "code",
   "execution_count": 11,
   "metadata": {
    "collapsed": false
   },
   "outputs": [
    {
     "ename": "NameError",
     "evalue": "global name 'boogle' is not defined",
     "output_type": "error",
     "traceback": [
      "\u001b[0;31m---------------------------------------------------------------------------\u001b[0m",
      "\u001b[0;31mNameError\u001b[0m                                 Traceback (most recent call last)",
      "\u001b[0;32m<ipython-input-11-d3a93c0b2317>\u001b[0m in \u001b[0;36m<module>\u001b[0;34m()\u001b[0m\n\u001b[0;32m----> 1\u001b[0;31m \u001b[0madd_to_boogle\u001b[0m\u001b[0;34m(\u001b[0m\u001b[0;36m5\u001b[0m\u001b[0;34m)\u001b[0m\u001b[0;34m\u001b[0m\u001b[0m\n\u001b[0m",
      "\u001b[0;32m<ipython-input-10-643868d0ee79>\u001b[0m in \u001b[0;36madd_to_boogle\u001b[0;34m(x)\u001b[0m\n\u001b[1;32m      1\u001b[0m \u001b[0;32mdef\u001b[0m \u001b[0madd_to_boogle\u001b[0m\u001b[0;34m(\u001b[0m\u001b[0mx\u001b[0m\u001b[0;34m)\u001b[0m\u001b[0;34m:\u001b[0m\u001b[0;34m\u001b[0m\u001b[0m\n\u001b[0;32m----> 2\u001b[0;31m     \u001b[0;32mreturn\u001b[0m \u001b[0mboogle\u001b[0m \u001b[0;34m+\u001b[0m \u001b[0mx\u001b[0m\u001b[0;34m\u001b[0m\u001b[0m\n\u001b[0m",
      "\u001b[0;31mNameError\u001b[0m: global name 'boogle' is not defined"
     ]
    }
   ],
   "source": [
    "add_to_boogle(5)"
   ]
  },
  {
   "cell_type": "markdown",
   "metadata": {
    "slideshow": {
     "slide_type": "slide"
    }
   },
   "source": [
    "# Containers in context\n",
    "\n",
    "Can we automatically generate madlibs using this base?\n",
    "\n",
    "* A list of many colors to choose from\n",
    "* Randomly choose any number\n",
    "* A list of several nouns to choose from\n",
    "\n",
    "We need some way to keep each of these lists together.\n",
    "\n",
    "Python has a convenient data type, called the `list`."
   ]
  },
  {
   "cell_type": "markdown",
   "metadata": {
    "slideshow": {
     "slide_type": "subslide"
    }
   },
   "source": [
    "## Containers\n",
    "\n",
    "We need a way of storing data, or objects, within our program.  This allows us to group things together.  So, let's meet Python's `list`.\n",
    "\n",
    "Lists are the most basic type of container.  Imagine a list you might make, like a grocery list.\n",
    "\n",
    "* You can fill it with anything, although there is usually a theme.\n",
    "* There is an order, although sometimes it may be kind of arbitrary.\n",
    "\n",
    "On a more technical level:\n",
    "\n",
    "* Lists are contained within `[]` (square brackets).\n",
    "* Items in lists are separated by commas."
   ]
  },
  {
   "cell_type": "code",
   "execution_count": 2,
   "metadata": {
    "collapsed": false,
    "slideshow": {
     "slide_type": "fragment"
    }
   },
   "outputs": [
    {
     "name": "stdout",
     "output_type": "stream",
     "text": [
      "[]\n",
      "['cat', 'dog', 'shark']\n",
      "['red', 'yellow', 'green', 'blue']\n"
     ]
    }
   ],
   "source": [
    "print [] # this is an empty list\n",
    "print [\"cat\", \"dog\", \"shark\"] # a list of nouns\n",
    "print [\"red\", \"yellow\", \"green\", \"blue\"] # a list of colors"
   ]
  },
  {
   "cell_type": "markdown",
   "metadata": {
    "slideshow": {
     "slide_type": "subslide"
    }
   },
   "source": [
    "## Automating madlibs with the `random` library\n",
    "\n",
    "The `random` library happens to have a neat utility:  `random.choice()`.  This is the first real function that we're going to explore in depth.\n",
    "\n",
    "What does the documentation say?\n",
    "\n",
    "* random.choice(seq)\n",
    "    * Return a random element from the non-empty sequence seq. If seq is empty, raises IndexError.\n",
    "    \n",
    "This function will choose a random element from a given container.  We need to \"pass\" `random.choice()` a container.  This just means that we need put our container inside of the `()`."
   ]
  },
  {
   "cell_type": "code",
   "execution_count": 7,
   "metadata": {
    "collapsed": false,
    "slideshow": {
     "slide_type": "subslide"
    }
   },
   "outputs": [
    {
     "name": "stdout",
     "output_type": "stream",
     "text": [
      "Fizzpop asked me, \"So what kind of shark do you want?\"\n",
      "I don't know what kind of shark I want!  Who wants a red shark?\n",
      "So I just said, \"Give me whatever kind of red shark you have in stock, Fizzpop\"\n"
     ]
    }
   ],
   "source": [
    "import random\n",
    "\n",
    "names = [\"Elizabeth\", \"Dani\", \"Fizzpop\"]\n",
    "nouns = [\"cat\", \"dog\", \"shark\"]\n",
    "colors = [\"red\", \"yellow\", \"green\", \"blue\"]\n",
    "\n",
    "name = random.choice(names)\n",
    "noun = random.choice(nouns)\n",
    "color = random.choice(colors)\n",
    "\n",
    "print (name + \" asked me, \\\"So what kind of \" + noun + \" do you want?\\\"\")\n",
    "print (\"I don't know what kind of \" + noun + \" I want!  Who wants a \" + color + \" \" + noun + \"?\")\n",
    "print (\"So I just said, \\\"Give me whatever kind of \" + color + \" \" + noun + \" you have in stock, \" + name + \"\\\"\")"
   ]
  },
  {
   "cell_type": "markdown",
   "metadata": {
    "slideshow": {
     "slide_type": "fragment"
    }
   },
   "source": [
    "Try running a script with this a few times.  The number will keep changing.  We can also try moving this into a function."
   ]
  },
  {
   "cell_type": "code",
   "execution_count": 8,
   "metadata": {
    "collapsed": false
   },
   "outputs": [],
   "source": [
    "\n",
    "def just_want_my_lunch(names, nouns, colors):\n",
    "    name = random.choice(names)\n",
    "    noun = random.choice(nouns)\n",
    "    color = random.choice(colors)\n",
    "\n",
    "    text = name + \" asked me, \\\"So what kind of \" + noun + \" do you want?\\n\\\n",
    "    I don't know what kind of \" + noun + \" I want!  Who wants a \" + color + \\\n",
    "    \" \" + noun + \"?\\n So I just said, \\\"Give me whatever kind of \" + color +\\\n",
    "    \" \" + noun + \" you have in stock, \" + name + \"\\\"\"\n",
    "    \n",
    "    return text"
   ]
  },
  {
   "cell_type": "code",
   "execution_count": 9,
   "metadata": {
    "collapsed": false
   },
   "outputs": [
    {
     "name": "stdout",
     "output_type": "stream",
     "text": [
      "Dani asked me, \"So what kind of cat do you want?\n",
      "    I don't know what kind of cat I want!  Who wants a red cat?\n",
      " So I just said, \"Give me whatever kind of red cat you have in stock, Dani\"\n"
     ]
    }
   ],
   "source": [
    "answer = just_want_my_lunch(names, nouns, colors)\n",
    "print(answer)"
   ]
  },
  {
   "cell_type": "markdown",
   "metadata": {
    "slideshow": {
     "slide_type": "subslide"
    }
   },
   "source": [
    "## Helpful `list` code formulas\n",
    "\n",
    "Let's start with a list of assorted candy colors.\n",
    "\n",
    "Okay, I've been using this example for years before Donald Trump, Jr. made his awful refugee analogy.  Candies != People."
   ]
  },
  {
   "cell_type": "code",
   "execution_count": 9,
   "metadata": {
    "collapsed": false,
    "slideshow": {
     "slide_type": "fragment"
    }
   },
   "outputs": [],
   "source": [
    "bowl = ['red', 'blue', 'red', 'red', 'green', 'yellow', 'brown', 'red', 'yellow', 'brown', 'green']"
   ]
  },
  {
   "cell_type": "code",
   "execution_count": 10,
   "metadata": {
    "collapsed": false,
    "slideshow": {
     "slide_type": "fragment"
    }
   },
   "outputs": [
    {
     "name": "stdout",
     "output_type": "stream",
     "text": [
      "11\n"
     ]
    }
   ],
   "source": [
    "# how many elements are in it?\n",
    "print len(bowl)"
   ]
  },
  {
   "cell_type": "code",
   "execution_count": 13,
   "metadata": {
    "collapsed": false,
    "slideshow": {
     "slide_type": "fragment"
    }
   },
   "outputs": [
    {
     "name": "stdout",
     "output_type": "stream",
     "text": [
      "set(['blue', 'brown', 'green', 'yellow', 'red'])\n",
      "<type 'set'>\n",
      "5\n"
     ]
    }
   ],
   "source": [
    "# what are the unique values?\n",
    "# the set() family of objects are great for doing this kind of work\n",
    "uniques = set(bowl)\n",
    "print uniques\n",
    "print type(uniques)\n",
    "print len(uniques)"
   ]
  },
  {
   "cell_type": "code",
   "execution_count": 14,
   "metadata": {
    "collapsed": false,
    "slideshow": {
     "slide_type": "fragment"
    }
   },
   "outputs": [
    {
     "name": "stdout",
     "output_type": "stream",
     "text": [
      "['blue', 'brown', 'green', 'yellow', 'red']\n",
      "<type 'list'>\n"
     ]
    }
   ],
   "source": [
    "# let's turn that back into a list\n",
    "uniquelist = list(uniques)\n",
    "print uniquelist\n",
    "print type(uniquelist)"
   ]
  },
  {
   "cell_type": "markdown",
   "metadata": {
    "slideshow": {
     "slide_type": "subslide"
    }
   },
   "source": [
    "## `list` slicing\n",
    "\n",
    "Let's open up your IDLE client so you can try this out yourself!  PyCharm will work, too, but might be a bit weird.\n",
    "\n",
    "A `list` has an ordered index.  This means we can access elements via their their index position.\n",
    "\n",
    "* Slicing notation for a single element:\n",
    "    * `list_name[index_position]`\n",
    "* Slicing notation for a range of elements:\n",
    "    * `list_name[start:stop:step]`\n",
    "    \n",
    "Various warnings:\n",
    "\n",
    "* Index positions start at `0` and NOT `1`.  \n",
    "    * Be very careful.  It will take some time to get used to this.\n",
    "* `step` value is inclusive\n",
    "* `stop` position is exclusive\n",
    "    * This means it will go \"up to but not including that position\"\n",
    "* `step` means \"how many elements should I step through at a time?\"\n",
    "* `start`, `stop`, and `step` are each optional, but the `:` should be retained to indicate what is being omitted.\n",
    "\n",
    "Let's switch to a list that will give us more informative feedback.  You'll just need to memorize many of these notation tricks, so don't feel at a loss that you weren't able to derive them on your own."
   ]
  },
  {
   "cell_type": "code",
   "execution_count": 18,
   "metadata": {
    "collapsed": false,
    "slideshow": {
     "slide_type": "subslide"
    }
   },
   "outputs": [
    {
     "name": "stdout",
     "output_type": "stream",
     "text": [
      "10\n"
     ]
    }
   ],
   "source": [
    "word_numbers = ['one', 'two', 'three', 'four', 'five', 'six', 'seven', 'eight', 'nine', 'ten']\n",
    "print len(word_numbers)"
   ]
  },
  {
   "cell_type": "code",
   "execution_count": 26,
   "metadata": {
    "collapsed": false,
    "slideshow": {
     "slide_type": "fragment"
    }
   },
   "outputs": [
    {
     "name": "stdout",
     "output_type": "stream",
     "text": [
      "one\n",
      "ten\n"
     ]
    }
   ],
   "source": [
    "print word_numbers[0] # the first element\n",
    "print word_numbers[-1] # the last element"
   ]
  },
  {
   "cell_type": "code",
   "execution_count": 24,
   "metadata": {
    "collapsed": false,
    "slideshow": {
     "slide_type": "fragment"
    }
   },
   "outputs": [
    {
     "name": "stdout",
     "output_type": "stream",
     "text": [
      "['one', 'two', 'three']\n",
      "['one', 'two', 'three']\n"
     ]
    }
   ],
   "source": [
    "print word_numbers[0:3] # the first four three elements, remember that stop is exclusive\n",
    "print word_numbers[:3] # start is optional if I mean for it to start at the beginning"
   ]
  },
  {
   "cell_type": "code",
   "execution_count": 27,
   "metadata": {
    "collapsed": false,
    "slideshow": {
     "slide_type": "subslide"
    }
   },
   "outputs": [
    {
     "name": "stdout",
     "output_type": "stream",
     "text": [
      "['seven', 'eight', 'nine', 'ten']\n",
      "['seven', 'eight', 'nine', 'ten']\n"
     ]
    }
   ],
   "source": [
    "print word_numbers[6:len(word_numbers)] # start at the seventh element and go to the end\n",
    "print word_numbers[6:] # same thing, but 'go to the end' implied by omission"
   ]
  },
  {
   "cell_type": "code",
   "execution_count": 25,
   "metadata": {
    "collapsed": false,
    "slideshow": {
     "slide_type": "fragment"
    }
   },
   "outputs": [
    {
     "name": "stdout",
     "output_type": "stream",
     "text": [
      "['one', 'three', 'five', 'seven', 'nine']\n",
      "['ten', 'nine', 'eight', 'seven', 'six', 'five', 'four', 'three', 'two', 'one']\n"
     ]
    }
   ],
   "source": [
    "# stepping\n",
    "print word_numbers[::2] # every other element\n",
    "print word_numbers[::-1] # go backwards through everthing"
   ]
  },
  {
   "cell_type": "code",
   "execution_count": 28,
   "metadata": {
    "collapsed": false,
    "slideshow": {
     "slide_type": "fragment"
    }
   },
   "outputs": [
    {
     "ename": "IndexError",
     "evalue": "list index out of range",
     "output_type": "error",
     "traceback": [
      "\u001b[0;31m---------------------------------------------------------------------------\u001b[0m\n\u001b[0;31mIndexError\u001b[0m                                Traceback (most recent call last)",
      "\u001b[0;32m<ipython-input-28-75a0c08ae074>\u001b[0m in \u001b[0;36m<module>\u001b[0;34m()\u001b[0m\n\u001b[0;32m----> 1\u001b[0;31m \u001b[0;32mprint\u001b[0m \u001b[0mword_numbers\u001b[0m\u001b[0;34m[\u001b[0m\u001b[0;36m11\u001b[0m\u001b[0;34m]\u001b[0m\u001b[0;34m\u001b[0m\u001b[0m\n\u001b[0m",
      "\u001b[0;31mIndexError\u001b[0m: list index out of range"
     ]
    }
   ],
   "source": [
    "print word_numbers[11] # get used to seeing 'list index out of range' errors"
   ]
  },
  {
   "cell_type": "markdown",
   "metadata": {
    "slideshow": {
     "slide_type": "slide"
    }
   },
   "source": [
    "## Dictionaries\n",
    "\n",
    "Let's take a look at another type of container:  the dictionary (`dict`).\n",
    "\n",
    "The `list` container we just learned about contains just a plain list of elements.  However, `dict` is meant to contain a set of key/value pairs.  These are stuctures meant to hold data values that are looked up via their keys.  Imagine these are mini databases.\n",
    "\n",
    "Dictionaries:\n",
    "\n",
    "* have no particular order (no position index values)\n",
    "    * this means that the order will change when you print the dictionary\n",
    "    * do not depend on the order to be the same\n",
    "* value are looked up by the keys\n",
    "* keys and values may be any object\n",
    "    * including other `list`s or `dict`s, but be careful when doing this!"
   ]
  },
  {
   "cell_type": "markdown",
   "metadata": {
    "slideshow": {
     "slide_type": "subslide"
    }
   },
   "source": [
    "\n",
    "For example, let's imagine we have a bowl of randomly colored candies.  We can model this inside a list this way:"
   ]
  },
  {
   "cell_type": "code",
   "execution_count": 53,
   "metadata": {
    "collapsed": false,
    "slideshow": {
     "slide_type": "fragment"
    }
   },
   "outputs": [],
   "source": [
    "bowl = ['red', 'blue', 'red', 'red', 'green', 'yellow', 'brown', 'red', 'yellow', 'brown', 'green']"
   ]
  },
  {
   "cell_type": "markdown",
   "metadata": {
    "slideshow": {
     "slide_type": "fragment"
    }
   },
   "source": [
    "We can investigate and do a few things to our bowl."
   ]
  },
  {
   "cell_type": "code",
   "execution_count": 54,
   "metadata": {
    "collapsed": false,
    "slideshow": {
     "slide_type": "fragment"
    }
   },
   "outputs": [
    {
     "name": "stdout",
     "output_type": "stream",
     "text": [
      "11\n",
      "<type 'list'>\n",
      "13\n"
     ]
    }
   ],
   "source": [
    "print len(bowl)  # the list has 11 elements\n",
    "print type(bowl) # indeed, it is a list\n",
    "bowl.append('green')\n",
    "bowl.append('yellow') # I can add items\n",
    "print len(bowl) # and then see that the length has increased"
   ]
  },
  {
   "cell_type": "markdown",
   "metadata": {
    "slideshow": {
     "slide_type": "subslide"
    }
   },
   "source": [
    "We can visually inspect the list and know that there are repeats of the colors within it.  So what if we wanted to count how many of each color there were in the list?\n",
    "\n",
    "Python 2.7 and later has a great feature, called Counter()."
   ]
  },
  {
   "cell_type": "code",
   "execution_count": 6,
   "metadata": {
    "collapsed": false,
    "slideshow": {
     "slide_type": "fragment"
    }
   },
   "outputs": [],
   "source": [
    "from collections import Counter # import Counter into our namespace"
   ]
  },
  {
   "cell_type": "code",
   "execution_count": 55,
   "metadata": {
    "collapsed": false,
    "slideshow": {
     "slide_type": "fragment"
    }
   },
   "outputs": [
    {
     "name": "stdout",
     "output_type": "stream",
     "text": [
      "{'blue': 1, 'brown': 2, 'green': 3, 'red': 4, 'yellow': 3}\n"
     ]
    }
   ],
   "source": [
    "counted_bowl = dict(Counter(bowl)) # I'm converting this back to a dictionary, we'll talk about that later!\n",
    "print counted_bowl"
   ]
  },
  {
   "cell_type": "markdown",
   "metadata": {
    "slideshow": {
     "slide_type": "fragment"
    }
   },
   "source": [
    "We can see the key/value pairs in this dictionary.  \n",
    "\n",
    "The notation: `'blue': 1` means that the key of `'blue'` has the value of `1`."
   ]
  },
  {
   "cell_type": "markdown",
   "metadata": {
    "slideshow": {
     "slide_type": "subslide"
    }
   },
   "source": [
    "## Helpful `dict` formulas"
   ]
  },
  {
   "cell_type": "code",
   "execution_count": 56,
   "metadata": {
    "collapsed": false,
    "slideshow": {
     "slide_type": "subslide"
    }
   },
   "outputs": [
    {
     "name": "stdout",
     "output_type": "stream",
     "text": [
      "['blue', 'brown', 'green', 'red', 'yellow']\n",
      "[1, 2, 3, 4, 3]\n",
      "13\n"
     ]
    }
   ],
   "source": [
    "print counted_bowl.keys() # get a list of all the keys\n",
    "print counted_bowl.values() # get a list of all the values\n",
    "print sum(counted_bowl.values()) # because this is returning a list, I can sum the total values"
   ]
  },
  {
   "cell_type": "code",
   "execution_count": 57,
   "metadata": {
    "collapsed": false,
    "slideshow": {
     "slide_type": "fragment"
    }
   },
   "outputs": [
    {
     "name": "stdout",
     "output_type": "stream",
     "text": [
      "2\n"
     ]
    }
   ],
   "source": [
    "print counted_bowl['brown'] # look up a value with a key"
   ]
  },
  {
   "cell_type": "code",
   "execution_count": 58,
   "metadata": {
    "collapsed": false,
    "slideshow": {
     "slide_type": "fragment"
    }
   },
   "outputs": [
    {
     "name": "stdout",
     "output_type": "stream",
     "text": [
      "True\n"
     ]
    }
   ],
   "source": [
    "print 'red' in counted_bowl # check if a key exists in a dictionary"
   ]
  },
  {
   "cell_type": "code",
   "execution_count": 59,
   "metadata": {
    "collapsed": false
   },
   "outputs": [
    {
     "name": "stdout",
     "output_type": "stream",
     "text": [
      "{'blue': 1, 'brown': 2, 'yellow': 3, 'green': 3, 'fuzzy': 0, 'red': 2}\n"
     ]
    }
   ],
   "source": [
    "counted_bowl['fuzzy'] = 0 # adds a new value if the key does not exist\n",
    "counted_bowl['red'] = 2 # change a value if the key does exist\n",
    "print counted_bowl"
   ]
  },
  {
   "cell_type": "markdown",
   "metadata": {
    "slideshow": {
     "slide_type": "slide"
    }
   },
   "source": [
    "# Looping and white space\n",
    "\n",
    "Most of your programs are going to be centered around a loop.  Below are two formulas for printing out all the contents of a list.\n",
    "\n",
    "This is also a great time to talk about white space.  The indented code under the line beginning with `for` means that it belongs to that `for` block.  Some programming languages use punctuation, like `{}`, to indicate what code belongs to that block.  However, Python uses this white space to indicate block membership.  I'm going to briefly touch on these and then move right into reading files, because looping is an essential element of working with that data."
   ]
  },
  {
   "cell_type": "code",
   "execution_count": 40,
   "metadata": {
    "collapsed": false,
    "slideshow": {
     "slide_type": "fragment"
    }
   },
   "outputs": [
    {
     "name": "stdout",
     "output_type": "stream",
     "text": [
      "1\n",
      "2\n",
      "3\n",
      "4\n",
      "5\n"
     ]
    }
   ],
   "source": [
    "# do something to all those things\n",
    "for number in [1, 2, 3, 4, 5]:\n",
    "    print number"
   ]
  },
  {
   "cell_type": "code",
   "execution_count": 3,
   "metadata": {
    "collapsed": false,
    "slideshow": {
     "slide_type": "fragment"
    }
   },
   "outputs": [
    {
     "name": "stdout",
     "output_type": "stream",
     "text": [
      "0\n",
      "1\n",
      "2\n",
      "3\n",
      "4\n",
      "5\n",
      "6\n",
      "7\n",
      "8\n",
      "9\n"
     ]
    }
   ],
   "source": [
    "# do something so long as this condition is or is not met\n",
    "\n",
    "count = 0\n",
    "while count < 10:\n",
    "    print count\n",
    "    count = count + 1"
   ]
  },
  {
   "cell_type": "markdown",
   "metadata": {
    "slideshow": {
     "slide_type": "slide"
    }
   },
   "source": [
    "## The for loop\n",
    "\n",
    "When working with data, the `for` loop will be what you use the most often.  Here is the basic syntax:"
   ]
  },
  {
   "cell_type": "code",
   "execution_count": null,
   "metadata": {
    "collapsed": false,
    "slideshow": {
     "slide_type": "fragment"
    }
   },
   "outputs": [],
   "source": [
    "for iterable_variable in iterable_item:\n",
    "    print iterable_variable # or do whatever action you wanted..."
   ]
  },
  {
   "cell_type": "code",
   "execution_count": 50,
   "metadata": {
    "collapsed": false,
    "slideshow": {
     "slide_type": "fragment"
    }
   },
   "outputs": [
    {
     "name": "stdout",
     "output_type": "stream",
     "text": [
      "The bowl has a red in it.\n",
      "The bowl has a blue in it.\n",
      "The bowl has a red in it.\n",
      "The bowl has a red in it.\n",
      "The bowl has a green in it.\n",
      "The bowl has a yellow in it.\n",
      "The bowl has a brown in it.\n",
      "The bowl has a red in it.\n",
      "The bowl has a yellow in it.\n",
      "The bowl has a brown in it.\n",
      "The bowl has a green in it.\n"
     ]
    }
   ],
   "source": [
    "for candy in bowl:\n",
    "    print \"The bowl has a \" + candy + \" in it.\""
   ]
  },
  {
   "cell_type": "markdown",
   "metadata": {
    "slideshow": {
     "slide_type": "subslide"
    }
   },
   "source": [
    "A common tasks that often comes up is: \"Do this task some arbitrary number of times.\"  For example, \"Fill a bowl with 50 random candies.\"  A canonical method of doing this is to use the function `range()`."
   ]
  },
  {
   "cell_type": "code",
   "execution_count": 60,
   "metadata": {
    "collapsed": false,
    "slideshow": {
     "slide_type": "fragment"
    }
   },
   "outputs": [
    {
     "name": "stdout",
     "output_type": "stream",
     "text": [
      "[0, 1, 2, 3, 4, 5, 6, 7, 8, 9]\n"
     ]
    }
   ],
   "source": [
    "print range(10) # range is a function to return lists of arbitrary length"
   ]
  },
  {
   "cell_type": "code",
   "execution_count": 61,
   "metadata": {
    "collapsed": false,
    "slideshow": {
     "slide_type": "fragment"
    }
   },
   "outputs": [
    {
     "name": "stdout",
     "output_type": "stream",
     "text": [
      "I did a thing\n",
      "I did a thing\n",
      "I did a thing\n",
      "I did a thing\n",
      "I did a thing\n"
     ]
    }
   ],
   "source": [
    "for each in range(5):\n",
    "    print \"I did a thing\""
   ]
  },
  {
   "cell_type": "code",
   "execution_count": 62,
   "metadata": {
    "collapsed": false,
    "slideshow": {
     "slide_type": "fragment"
    }
   },
   "outputs": [
    {
     "name": "stdout",
     "output_type": "stream",
     "text": [
      "I don't have to do anything with it, but the value of each is 0\n",
      "I don't have to do anything with it, but the value of each is 1\n",
      "I don't have to do anything with it, but the value of each is 2\n",
      "I don't have to do anything with it, but the value of each is 3\n",
      "I don't have to do anything with it, but the value of each is 4\n"
     ]
    }
   ],
   "source": [
    "for each in range(5):\n",
    "    print \"I don't have to do anything with it, but the value of each is \" + str(each)"
   ]
  },
  {
   "cell_type": "markdown",
   "metadata": {
    "slideshow": {
     "slide_type": "slide"
    }
   },
   "source": [
    "## `while` loop\n",
    "\n",
    "This look should be used when you don't know how many times something needs to be run.  This statement requires a bit more set up, with incrementing a counter."
   ]
  },
  {
   "cell_type": "code",
   "execution_count": 65,
   "metadata": {
    "collapsed": false,
    "slideshow": {
     "slide_type": "fragment"
    }
   },
   "outputs": [
    {
     "name": "stdout",
     "output_type": "stream",
     "text": [
      "3\n",
      "11\n",
      "13\n",
      "19\n",
      "20\n",
      "30\n",
      "counted to 30 in 6 steps\n"
     ]
    }
   ],
   "source": [
    "import random\n",
    "sum = 0\n",
    "target = 100\n",
    "count = 0\n",
    "while sum <=20:\n",
    "    sum += random.randint(0,10)\n",
    "    count += 1\n",
    "    print sum\n",
    "print \"counted to\",sum,\"in\",count,\"steps\""
   ]
  },
  {
   "cell_type": "markdown",
   "metadata": {
    "slideshow": {
     "slide_type": "subslide"
    }
   },
   "source": [
    "## Infinite loops\n",
    "\n",
    "There is a pretty big danger of opening up an infinite loop.  This a loop that never ends.  For example, what if I had forgotten to increase count by the value?  It would then always be less than or equal to 20, so the program will never stop running.\n",
    "\n",
    "Ways to get out of an infinite loop:\n",
    "\n",
    "control+c will kill it (yes, mac users, control even for you)."
   ]
  },
  {
   "cell_type": "markdown",
   "metadata": {},
   "source": [
    "# Round robin code reading\n",
    "\n",
    "Let's put together some of these looping concepts.\n",
    "\n",
    "```python\n",
    "col_str = \"red, blue, grey, yellow\"\n",
    "\n",
    "colors = col_str.split(\", \")\n",
    "\n",
    "print(colors)\n",
    "\n",
    "howmany = 10000\n",
    "\n",
    "bowl = []\n",
    "\n",
    "for i in range(howmany):\n",
    "    skittle = random.choice(colors)\n",
    "    bowl.append(skittle)\n",
    "\n",
    "\n",
    "for color in colors:\n",
    "    print(\"there are\", bowl.count(color), color)\n",
    "\n",
    "# how can we collect these more formally?\n",
    "\n",
    "color_count = {}\n",
    "\n",
    "for color in colors:\n",
    "    count = bowl.count(color)\n",
    "    color_count[color] = count\n",
    "\n",
    "print(color_count)\n",
    "```"
   ]
  },
  {
   "cell_type": "markdown",
   "metadata": {},
   "source": [
    "# Files\n",
    "\n",
    "This bit of code will create a text file with 1,000 random colors.  Each color on a newline.  Let's start reading through this file, and then we'll return to this code.\n",
    "\n",
    "There are three basic steps to managing files in memory:\n",
    "\n",
    "1. Open a file object, for reading or writing.\n",
    "2. Read or write data to that object.\n",
    "3. Close the object.\n",
    "\n",
    "There are then two ways of handling this:\n",
    "\n",
    "1. Using the explicit `open()` function along with `file.close()`.\n",
    "2. Using the `with` notation, which handles all the open/closing for you, and all the file processing steps happen inside that code block.\n",
    "\n",
    "You will need to know both ways, because both have advantages and disadvantages.  Unlike working with for loops vs. while loops (and how you'll rarely use while loops for data processing), usage of these two styles can be mixed depending on the complexity of your project.  So you'll really need to know both.  That said, the `with` notation is not a requirement, as you can use `open()` and `file.close()` for everything should you want to.  Those choosing to use `with` as a primary will need to sometimes not use that notation."
   ]
  },
  {
   "cell_type": "code",
   "execution_count": 66,
   "metadata": {
    "collapsed": false,
    "slideshow": {
     "slide_type": "slide"
    }
   },
   "outputs": [],
   "source": [
    "import random\n",
    "\n",
    "colors = ['red', 'blue', 'green', 'orange', 'fuzzy']\n",
    "\n",
    "with open('colors.txt', 'wt') as writecolors:\n",
    "    for i in range(1000):\n",
    "        color = random.choice(colors)\n",
    "        writecolors.write(color + '\\n')"
   ]
  },
  {
   "cell_type": "markdown",
   "metadata": {
    "slideshow": {
     "slide_type": "subslide"
    }
   },
   "source": [
    "## Reading a file\n",
    "\n",
    "`filename = 'filename.txt'` This is just the text value of the file path.\n",
    "\n",
    "To open and read a text file:\n",
    "\n",
    "`my_file = open(filename, 'rt')`  This creates your file object.\n",
    "`my_text = my_file.read()`  This reads the text values from the file object.\n",
    "`my_file.close()`  This closes the file.  A weird, but important concept.\n",
    "\n",
    "Alternative syntax:\n",
    "\n",
    "`with open(filename, 'rt') as my_file:`<br>\n",
    "&nbsp;&nbsp;&nbsp;&nbsp;&nbsp;&nbsp;&nbsp;&nbsp;`my_text = my_file.read()`\n",
    "\n",
    "`with` has the advantage of taking care of opening and closing the file for you.  Once it exists the `with` block, the file is closed and everything is done."
   ]
  },
  {
   "cell_type": "code",
   "execution_count": 68,
   "metadata": {
    "collapsed": false,
    "slideshow": {
     "slide_type": "fragment"
    }
   },
   "outputs": [],
   "source": [
    "filename = 'colors.txt'\n",
    "my_file = open(filename)\n",
    "my_text = my_file.read()\n",
    "my_file.close()"
   ]
  },
  {
   "cell_type": "code",
   "execution_count": 80,
   "metadata": {
    "collapsed": false,
    "slideshow": {
     "slide_type": "fragment"
    }
   },
   "outputs": [
    {
     "data": {
      "text/plain": [
       "'green\\ngreen\\nfuzzy\\nred\\ngreen\\nblue\\nblue\\norange\\ngreen\\norange\\nblue\\norange\\norange\\nred\\ngreen\\norange\\nfuzzy\\n'"
      ]
     },
     "execution_count": 80,
     "metadata": {},
     "output_type": "execute_result"
    }
   ],
   "source": [
    "my_text[:100] # let's just look at the first 100 characters"
   ]
  },
  {
   "cell_type": "markdown",
   "metadata": {
    "slideshow": {
     "slide_type": "subslide"
    }
   },
   "source": [
    "So what do we want to do with this?  Maybe count how many times each color is in?  I always prefer to use `with` when possible.\n",
    "\n",
    "The Python documentation has a list of methods for files.  We've already seen `read()`, but there is also `readlines()`.  This method will turn the "
   ]
  },
  {
   "cell_type": "code",
   "execution_count": 81,
   "metadata": {
    "collapsed": false,
    "slideshow": {
     "slide_type": "fragment"
    }
   },
   "outputs": [],
   "source": [
    "filename = 'colors.txt'\n",
    "with open(filename, 'rt') as my_file:\n",
    "    colors = my_file.readlines()"
   ]
  },
  {
   "cell_type": "code",
   "execution_count": 83,
   "metadata": {
    "collapsed": false
   },
   "outputs": [
    {
     "name": "stdout",
     "output_type": "stream",
     "text": [
      "['green\\n', 'green\\n', 'fuzzy\\n', 'red\\n', 'green\\n', 'blue\\n', 'blue\\n', 'orange\\n', 'green\\n', 'orange\\n', 'blue\\n', 'orange\\n', 'orange\\n', 'red\\n', 'green\\n', 'orange\\n', 'fuzzy\\n', 'red\\n', 'orange\\n', 'red\\n', 'red\\n', 'orange\\n', 'orange\\n', 'green\\n', 'orange\\n', 'red\\n', 'fuzzy\\n', 'blue\\n', 'fuzzy\\n', 'green\\n', 'fuzzy\\n', 'fuzzy\\n', 'red\\n', 'orange\\n', 'orange\\n', 'orange\\n', 'orange\\n', 'orange\\n', 'orange\\n', 'green\\n', 'orange\\n', 'red\\n', 'red\\n', 'orange\\n', 'fuzzy\\n', 'red\\n', 'green\\n', 'blue\\n', 'green\\n', 'green\\n', 'green\\n', 'red\\n', 'fuzzy\\n', 'green\\n', 'green\\n', 'green\\n', 'red\\n', 'blue\\n', 'fuzzy\\n', 'blue\\n', 'blue\\n', 'green\\n', 'blue\\n', 'red\\n', 'red\\n', 'red\\n', 'fuzzy\\n', 'blue\\n', 'blue\\n', 'red\\n', 'red\\n', 'fuzzy\\n', 'orange\\n', 'red\\n', 'orange\\n', 'fuzzy\\n', 'orange\\n', 'fuzzy\\n', 'blue\\n', 'orange\\n', 'green\\n', 'red\\n', 'fuzzy\\n', 'blue\\n', 'green\\n', 'green\\n', 'green\\n', 'red\\n', 'green\\n', 'orange\\n', 'blue\\n', 'green\\n', 'blue\\n', 'orange\\n', 'red\\n', 'orange\\n', 'blue\\n', 'blue\\n', 'blue\\n', 'red\\n']\n"
     ]
    }
   ],
   "source": [
    "print colors[:100]"
   ]
  },
  {
   "cell_type": "markdown",
   "metadata": {},
   "source": [
    "Neat!  But what about all those newlines...  Let's meet `strip()`. This will automatically clean off white space and other crud from the left and right sides of a string."
   ]
  },
  {
   "cell_type": "code",
   "execution_count": 85,
   "metadata": {
    "collapsed": false
   },
   "outputs": [],
   "source": [
    "clean_colors = []\n",
    "\n",
    "for color in colors:\n",
    "    clean_color = color.strip()\n",
    "    clean_colors.append(clean_color)"
   ]
  },
  {
   "cell_type": "code",
   "execution_count": 86,
   "metadata": {
    "collapsed": false
   },
   "outputs": [
    {
     "name": "stdout",
     "output_type": "stream",
     "text": [
      "['green', 'green', 'fuzzy', 'red', 'green', 'blue', 'blue', 'orange', 'green', 'orange', 'blue', 'orange', 'orange', 'red', 'green', 'orange', 'fuzzy', 'red', 'orange', 'red', 'red', 'orange', 'orange', 'green', 'orange', 'red', 'fuzzy', 'blue', 'fuzzy', 'green', 'fuzzy', 'fuzzy', 'red', 'orange', 'orange', 'orange', 'orange', 'orange', 'orange', 'green', 'orange', 'red', 'red', 'orange', 'fuzzy', 'red', 'green', 'blue', 'green', 'green', 'green', 'red', 'fuzzy', 'green', 'green', 'green', 'red', 'blue', 'fuzzy', 'blue', 'blue', 'green', 'blue', 'red', 'red', 'red', 'fuzzy', 'blue', 'blue', 'red', 'red', 'fuzzy', 'orange', 'red', 'orange', 'fuzzy', 'orange', 'fuzzy', 'blue', 'orange', 'green', 'red', 'fuzzy', 'blue', 'green', 'green', 'green', 'red', 'green', 'orange', 'blue', 'green', 'blue', 'orange', 'red', 'orange', 'blue', 'blue', 'blue', 'red']\n"
     ]
    }
   ],
   "source": [
    "print clean_colors[:100]"
   ]
  },
  {
   "cell_type": "code",
   "execution_count": 1,
   "metadata": {
    "collapsed": false
   },
   "outputs": [
    {
     "name": "stdout",
     "output_type": "stream",
     "text": [
      "/Users/wickes1/Documents/practical-programming\r\n"
     ]
    }
   ],
   "source": [
    "!pwd"
   ]
  },
  {
   "cell_type": "markdown",
   "metadata": {},
   "source": [
    "## The bib file\n",
    "\n",
    "Let's move on to a CSV file of data.  Using a recipe from the Python Cookbook, we can start reading in the data and "
   ]
  }
 ],
 "metadata": {
  "kernelspec": {
   "display_name": "Python 3",
   "language": "python",
   "name": "python3"
  },
  "language_info": {
   "codemirror_mode": {
    "name": "ipython",
    "version": 3
   },
   "file_extension": ".py",
   "mimetype": "text/x-python",
   "name": "python",
   "nbconvert_exporter": "python",
   "pygments_lexer": "ipython3",
   "version": "3.4.3"
  }
 },
 "nbformat": 4,
 "nbformat_minor": 0
}
